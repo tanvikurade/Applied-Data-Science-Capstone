{
 "cells": [
  {
   "cell_type": "markdown",
   "id": "2d0f09e7-f6d2-4096-908a-4bb0d43f3172",
   "metadata": {},
   "source": [
    "# __The Battle of Neighborhoods__\n",
    "## Week 4: the scent of papyrus"
   ]
  },
  {
   "cell_type": "markdown",
   "id": "88f09040-118d-403d-9c45-97696b3afd3e",
   "metadata": {},
   "source": [
    "#### Angel Ramón Ampudia Barbudo, July the 23rd of 2020."
   ]
  },
  {
   "cell_type": "markdown",
   "id": "f2bdd6b4-dfad-4c36-bc0e-ba42607f9074",
   "metadata": {},
   "source": [
    "### __2.- Datasets used for the study.__"
   ]
  },
  {
   "cell_type": "markdown",
   "id": "2848a1cd-3ab5-4f65-bbb5-57b532f31ac9",
   "metadata": {},
   "source": [
    "<div style=\"text-align: justify\"> The information used to construct this analysis are contained in four datasets: </div>"
   ]
  },
  {
   "cell_type": "markdown",
   "id": "3930e499-bcf2-4e43-ae6a-5b9559fdfd96",
   "metadata": {},
   "source": [
    "##### __1. List of Boroughs and Neighborhoods of Madrid and its Coordinates:__"
   ]
  },
  {
   "cell_type": "markdown",
   "id": "f8986812-c78e-4d69-8dca-a2135d823c36",
   "metadata": {},
   "source": [
    "<div style=\"text-align: justify\"> This set of data will let us position each neighborhood of Madrid in the map . </div>"
   ]
  },
  {
   "cell_type": "markdown",
   "id": "1ea46039-e355-4c07-8814-b93776b6a288",
   "metadata": {},
   "source": [
    "##### __2. Population by Age and Neighborhood in Madrid:__"
   ]
  },
  {
   "cell_type": "markdown",
   "id": "7a8ac88d-f748-4dca-b4b5-0c37ff2f90ad",
   "metadata": {},
   "source": [
    "<div style=\"text-align: justify\"> The population age will let us discriminate which neighborhood should be considered in the study and which not. </div>"
   ]
  },
  {
   "cell_type": "markdown",
   "id": "5d4ea31b-437d-4014-90ae-6a28de579f6e",
   "metadata": {},
   "source": [
    "##### __3. List of Venues by Neighborhood in Madrid obtained from Foursquare:__"
   ]
  },
  {
   "cell_type": "markdown",
   "id": "cfc1f4b5-2f18-48ca-8f2d-79e581ecffd0",
   "metadata": {},
   "source": [
    "<div style=\"text-align: justify\"> This information will let us stay close to the venues that foment economically the existence of bookshops. </div>"
   ]
  },
  {
   "cell_type": "markdown",
   "id": "5e15b26c-3e93-4cd5-a79d-52017e5f814f",
   "metadata": {},
   "source": [
    "##### __4. List of Public Libraries by Neighborhood in Madrid:__"
   ]
  },
  {
   "cell_type": "markdown",
   "id": "91cfce35-fa6f-4023-a767-aa0ac086e122",
   "metadata": {},
   "source": [
    "<div style=\"text-align: justify\"> A public library near our local could have repercussions in the viability of our adventure. </div>"
   ]
  },
  {
   "cell_type": "markdown",
   "id": "2c821289-6228-4adf-87d8-e83f52d60cd9",
   "metadata": {},
   "source": [
    "------------------------------------------------------"
   ]
  },
  {
   "cell_type": "markdown",
   "id": "2c3ab115-5460-4270-9f87-b1d19123dfd3",
   "metadata": {},
   "source": [
    "### ... thank your for you review!"
   ]
  },
  {
   "cell_type": "code",
   "execution_count": null,
   "id": "e625ab9e-e97c-43d3-ae7c-73787e8eb32b",
   "metadata": {},
   "outputs": [],
   "source": []
  }
 ],
 "metadata": {
  "kernelspec": {
   "display_name": "Python",
   "language": "python",
   "name": "conda-env-python-py"
  },
  "language_info": {
   "codemirror_mode": {
    "name": "ipython",
    "version": 3
   },
   "file_extension": ".py",
   "mimetype": "text/x-python",
   "name": "python",
   "nbconvert_exporter": "python",
   "pygments_lexer": "ipython3",
   "version": "3.6.13"
  }
 },
 "nbformat": 4,
 "nbformat_minor": 5
}
