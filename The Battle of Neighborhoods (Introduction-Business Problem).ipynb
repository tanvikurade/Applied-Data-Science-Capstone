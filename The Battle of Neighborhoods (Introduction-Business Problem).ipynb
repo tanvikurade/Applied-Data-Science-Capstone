{
 "cells": [
  {
   "cell_type": "markdown",
   "id": "12256e68-4595-496a-9980-8054f6c3669f",
   "metadata": {},
   "source": [
    "# __The Battle of Neighborhoods__\n",
    "## Week 4: the scent of papyrus"
   ]
  },
  {
   "cell_type": "markdown",
   "id": "add263a7-5f54-444b-82d4-920f8a70e499",
   "metadata": {},
   "source": [
    "#### Angel Ramón Ampudia Barbudo, July the 23rd of 2020."
   ]
  },
  {
   "cell_type": "markdown",
   "id": "4aef984a-c316-4bfd-b1a4-e8b52e59b35d",
   "metadata": {},
   "source": [
    "### __1.- Introduction.__"
   ]
  },
  {
   "cell_type": "markdown",
   "id": "9f130e83-1a79-4648-a0ac-7eeacc5da431",
   "metadata": {},
   "source": [
    "<div style=\"text-align: justify\"> Yesterday an old man came to our headquarters in Seville, this man that introduced himself as a nostalgic for paper, knew of our company in a conversation with a dear friend editor and came to our main instalations looking for help and some good advises.</div>"
   ]
  },
  {
   "cell_type": "markdown",
   "id": "2d178c23-850c-41d5-a00f-9eaf41ebcaa3",
   "metadata": {},
   "source": [
    "<div style=\"text-align: justify\"> His narration was clear, with the current economic situation of the country, one of his bookstores in Barcelona was suffering problems to subsist and maybe flowing with the synergy of the moment, as he literally remarked, he was considering starting a new adventure in Madrid.</div>"
   ]
  },
  {
   "cell_type": "markdown",
   "id": "0c01fe21-8eb9-4e42-8395-5b9dab060b9c",
   "metadata": {},
   "source": [
    "### __Background.__"
   ]
  },
  {
   "cell_type": "markdown",
   "id": "1c4c94a9-a567-4b4e-ac98-311cfb1b9cfc",
   "metadata": {},
   "source": [
    "<div style=\"text-align: justify\"> Generalizing, these are not good years for business and business with physical books are not in a much healthier situation.</div>"
   ]
  },
  {
   "cell_type": "markdown",
   "id": "7d46585a-2b09-4ea1-a628-34c5d558720c",
   "metadata": {},
   "source": [
    "<div style=\"text-align: justify\"> In 2017 the publishing house “Europa Press” indicates in an article that Madrid was overtaking other cities like London and Paris with a number of 497 active bookstores, since that moment the panorama has turned just the other way around.</div>"
   ]
  },
  {
   "cell_type": "markdown",
   "id": "0b67db05-0395-45aa-a4a1-9fff74c2b8c1",
   "metadata": {},
   "source": [
    "<div style=\"text-align: justify\"> The daily newspaper “El Mundo” revealed last January that Madrid currently has in his territory around 100 bookstores, a cypher that can be translated into 400 shops disappearing since 2017.</div>"
   ]
  },
  {
   "cell_type": "markdown",
   "id": "e18e0be8-edee-49fd-baf5-df53a3c8632d",
   "metadata": {},
   "source": [
    "<div style=\"text-align: justify\"> In many ways there is a clear statement underlying: the crisis not only affects stores, it is also causing economic pain to the editors, the publishers, the printers and all the components of a industry that surrounds and mainly relies on the traditional concept of book.</div>"
   ]
  },
  {
   "cell_type": "markdown",
   "id": "91db8b4c-8e20-4bb3-823f-e798d8a98a6c",
   "metadata": {},
   "source": [
    "<div style=\"text-align: justify\"> And the bookstore is the front line of the confrontation, but the battle is evolving in the offices of the big internet companies and in the courts with their legal representants.</div>"
   ]
  },
  {
   "cell_type": "markdown",
   "id": "e28445fd-0d9d-40b0-8e4c-b872db467723",
   "metadata": {},
   "source": [
    "##### __The time to reinvent ourselves has come, is time to raise the bet.__"
   ]
  },
  {
   "cell_type": "markdown",
   "id": "9a32452d-58b2-440d-a802-1f5f9b68ac7f",
   "metadata": {},
   "source": [
    "<div style=\"text-align: justify\"> Most of the bookstores are out of date, that is pretty obvious, an added value should be given to the customers and to the people that buy books and support the business.</div>"
   ]
  },
  {
   "cell_type": "markdown",
   "id": "c4980f57-2012-47e7-ad96-6aa23c513722",
   "metadata": {},
   "source": [
    "<div style=\"text-align: justify\"> Readers are cooperating and they don’t want shops to disappear, that’s a fact, and maybe in this scenario the cover letter of our loved client looks meaningful: the readers are \"nostalgic for paper\".</div>"
   ]
  },
  {
   "cell_type": "markdown",
   "id": "3ca2f612-4318-41a8-adeb-5fd66f4a5cb7",
   "metadata": {},
   "source": [
    "<div style=\"text-align: justify\"> And common readers find succulent the fidelity discounts or the additional material added as a gift, the special versions of a books are widely well considered, and readers as collectors don’t hesitate to buy different editions of the same literary work. </div>"
   ]
  },
  {
   "cell_type": "markdown",
   "id": "6ffe5106-29f4-4251-805a-0302b75032ec",
   "metadata": {},
   "source": [
    "<div style=\"text-align: justify\"> It’s time for creativity.</div>"
   ]
  },
  {
   "cell_type": "markdown",
   "id": "bfcc00fb-d56e-4c84-868a-19f1c91e2075",
   "metadata": {},
   "source": [
    "##### __The readers are “nostalgic for paper”.__"
   ]
  },
  {
   "cell_type": "markdown",
   "id": "a5fe2076-e6ac-4561-8573-66156cf8d4cb",
   "metadata": {},
   "source": [
    "<div style=\"text-align: justify\"> \"Once a reader is born it lives as a reader all its entire life, then the books turn into a leitmotiv, and into the greatest common divisor of its life\". </div>"
   ]
  },
  {
   "cell_type": "markdown",
   "id": "6876d19f-2d10-4214-a8c4-b747b61bddfe",
   "metadata": {},
   "source": [
    "<div style=\"text-align: justify\"> Far from this idealistic concept, the science, and being more accurate, the statistic, puts our feet on a more solid terrain: there are ages and ages for reading. </div>"
   ]
  },
  {
   "cell_type": "markdown",
   "id": "d7bd5e55-5d81-4180-b875-f54106c99afc",
   "metadata": {},
   "source": [
    "##### __Culture attracts culture.__"
   ]
  },
  {
   "cell_type": "markdown",
   "id": "a6b7665b-d023-4b4f-bda4-914b29a201b6",
   "metadata": {},
   "source": [
    "<div style=\"text-align: justify\"> Bookstores develop in a faster manner in areas where the presence of culture is notorious. </div>"
   ]
  },
  {
   "cell_type": "markdown",
   "id": "8a6477fb-7dcd-4e8d-94a0-cd0caecc803d",
   "metadata": {},
   "source": [
    "<div style=\"text-align: justify\"> The proximity to schools, colleges, universities and other types of centers of study pave the way economically to bookstores, students need books and that is good for bookstores.</div>"
   ]
  },
  {
   "cell_type": "markdown",
   "id": "60fe8bce-1cb6-44b3-839f-395d00bc153d",
   "metadata": {},
   "source": [
    "##### __Free is better than cheap.__"
   ]
  },
  {
   "cell_type": "markdown",
   "id": "1dc6110a-e6c5-4ff6-9b04-6025a8ee5328",
   "metadata": {},
   "source": [
    "<div style=\"text-align: justify\"> In Spain books are free and books are available to anybody with an identification card or a passport, even everybody can carry the book home using the loan system. </div>"
   ]
  },
  {
   "cell_type": "markdown",
   "id": "22096640-4d77-49d4-a8d9-8d4d75c3303b",
   "metadata": {},
   "source": [
    "<div style=\"text-align: justify\"> Public libraries are almost everywhere, most of the neighborhoods in Madrid have one. </div>"
   ]
  },
  {
   "cell_type": "markdown",
   "id": "5c27e55d-5c0e-4d3f-ae49-6b5089ca6ebb",
   "metadata": {},
   "source": [
    "----------------------------------------------"
   ]
  },
  {
   "cell_type": "markdown",
   "id": "a669d20b-c582-4794-ba09-d8dd3c14065d",
   "metadata": {},
   "source": [
    "### ... thank your for you review!"
   ]
  },
  {
   "cell_type": "code",
   "execution_count": null,
   "id": "d0732b34-530c-417b-8ef9-b747dcafa250",
   "metadata": {},
   "outputs": [],
   "source": []
  }
 ],
 "metadata": {
  "kernelspec": {
   "display_name": "Python",
   "language": "python",
   "name": "conda-env-python-py"
  },
  "language_info": {
   "codemirror_mode": {
    "name": "ipython",
    "version": 3
   },
   "file_extension": ".py",
   "mimetype": "text/x-python",
   "name": "python",
   "nbconvert_exporter": "python",
   "pygments_lexer": "ipython3",
   "version": "3.6.13"
  }
 },
 "nbformat": 4,
 "nbformat_minor": 5
}
