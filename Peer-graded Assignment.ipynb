{
 "cells": [
  {
   "cell_type": "markdown",
   "id": "c7145c1a-ed6a-4603-82b9-e7274838facd",
   "metadata": {},
   "source": [
    "## CAPSTONE PROJECT"
   ]
  },
  {
   "cell_type": "markdown",
   "id": "443aac46-2ce3-4c08-a685-5dbaed23d4c9",
   "metadata": {},
   "source": [
    "-----------------------------------"
   ]
  },
  {
   "cell_type": "markdown",
   "id": "96b9cd50-413e-44c8-8001-2728f9e993cb",
   "metadata": {},
   "source": [
    "### Peer-graded Assignment associated to the course \"Applied Data Science Capstone\"."
   ]
  },
  {
   "cell_type": "code",
   "execution_count": null,
   "id": "90f4628b-ac3a-4839-97c1-5f70bf9078e6",
   "metadata": {},
   "outputs": [],
   "source": [
    "import pandas as pd\n",
    "import Numpy as np"
   ]
  },
  {
   "cell_type": "code",
   "execution_count": 1,
   "id": "0fe8c2b6-750d-4881-8b73-27e4541aece8",
   "metadata": {},
   "outputs": [
    {
     "name": "stdout",
     "output_type": "stream",
     "text": [
      "Hello Capstone Project Course!\n"
     ]
    }
   ],
   "source": [
    "print(\"Hello Capstone Project Course!\")"
   ]
  },
  {
   "cell_type": "code",
   "execution_count": null,
   "id": "b2f25ce6-c9e1-4499-82fa-fc1da46c3d45",
   "metadata": {},
   "outputs": [],
   "source": []
  }
 ],
 "metadata": {
  "kernelspec": {
   "display_name": "Python",
   "language": "python",
   "name": "conda-env-python-py"
  },
  "language_info": {
   "codemirror_mode": {
    "name": "ipython",
    "version": 3
   },
   "file_extension": ".py",
   "mimetype": "text/x-python",
   "name": "python",
   "nbconvert_exporter": "python",
   "pygments_lexer": "ipython3",
   "version": "3.6.13"
  },
  "toc-showtags": false
 },
 "nbformat": 4,
 "nbformat_minor": 5
}
